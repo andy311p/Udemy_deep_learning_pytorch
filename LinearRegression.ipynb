{
  "nbformat": 4,
  "nbformat_minor": 0,
  "metadata": {
    "colab": {
      "name": "LinearRegression.ipynb",
      "provenance": [],
      "collapsed_sections": [],
      "toc_visible": true,
      "mount_file_id": "1zfozWLOxs2lno0F6PRtH6Iur5T7L4hpK",
      "authorship_tag": "ABX9TyOrpLWGAYTkJ0k+czqUzfHI",
      "include_colab_link": true
    },
    "kernelspec": {
      "name": "python3",
      "display_name": "Python 3"
    }
  },
  "cells": [
    {
      "cell_type": "markdown",
      "metadata": {
        "id": "view-in-github",
        "colab_type": "text"
      },
      "source": [
        "<a href=\"https://colab.research.google.com/github/andy311p/Udemy_deep_learning_pytorch/blob/master/LinearRegression.ipynb\" target=\"_parent\"><img src=\"https://colab.research.google.com/assets/colab-badge.svg\" alt=\"Open In Colab\"/></a>"
      ]
    },
    {
      "cell_type": "markdown",
      "metadata": {
        "id": "lxOUrDSkSU43",
        "colab_type": "text"
      },
      "source": [
        "IMPORTS"
      ]
    },
    {
      "cell_type": "code",
      "metadata": {
        "id": "9dlOA65OKJvX",
        "colab_type": "code",
        "colab": {}
      },
      "source": [
        "import numpy as np\n",
        "import torch\n",
        "import torch.nn as nn               #required to build linear regression\n",
        "from torch.autograd import Variable #required for backprop\n",
        "import matplotlib.pyplot as plt\n"
      ],
      "execution_count": null,
      "outputs": []
    },
    {
      "cell_type": "markdown",
      "metadata": {
        "id": "HjwZuqbWSRnz",
        "colab_type": "text"
      },
      "source": [
        "DATA INITIALIZATION"
      ]
    },
    {
      "cell_type": "code",
      "metadata": {
        "id": "F8LXBKPuKXQA",
        "colab_type": "code",
        "colab": {
          "base_uri": "https://localhost:8080/",
          "height": 51
        },
        "outputId": "deb2c357-682f-4a24-e74a-5924df4eef8c"
      },
      "source": [
        "#x list [1, 2, 3, 4, 5, 6, 7, 8, 9, 10]\n",
        "x_values = [i for i in range(11)]\n",
        "\n",
        "#convert to numpy array\n",
        "x_train = np.array(x_values,dtype=np.float32)\n",
        "print(x_train.shape)\n",
        "\n",
        "#reshape it to a matrix of 11*1\n",
        "x_train = x_train.reshape(-1,1)\n",
        "print(x_train.shape)\n",
        "\n",
        "#quicker virsion for y=2*x+1\n",
        "y_train = np.array([(2*i+1) for i in x_values],dtype=np.float32).reshape(-1,1)\n"
      ],
      "execution_count": null,
      "outputs": [
        {
          "output_type": "stream",
          "text": [
            "(11,)\n",
            "(11, 1)\n"
          ],
          "name": "stdout"
        }
      ]
    },
    {
      "cell_type": "markdown",
      "metadata": {
        "id": "-S8e5IOlSb-S",
        "colab_type": "text"
      },
      "source": [
        "MODEL"
      ]
    },
    {
      "cell_type": "code",
      "metadata": {
        "id": "5L9X2flNKaYD",
        "colab_type": "code",
        "colab": {}
      },
      "source": [
        "class LinearRegressionModel(nn.Module):\n",
        "  def __init__(self,input_dim,output_dim):\n",
        "    super(LinearRegressionModel,self).__init__()\n",
        "    self.linear = nn.Linear(input_dim,output_dim)\n",
        "\n",
        "  def forward(self,x):\n",
        "    out = self.linear(x)\n",
        "    return out  "
      ],
      "execution_count": null,
      "outputs": []
    },
    {
      "cell_type": "markdown",
      "metadata": {
        "id": "0UTMGi4ZSfk6",
        "colab_type": "text"
      },
      "source": [
        "MODEL ATTRIBUTES"
      ]
    },
    {
      "cell_type": "code",
      "metadata": {
        "id": "UlPbEEKMP_b-",
        "colab_type": "code",
        "colab": {}
      },
      "source": [
        "input_dim = 1\n",
        "output_dim = 1\n",
        "model = LinearRegressionModel(input_dim,output_dim)\n",
        "\n",
        "#Mean Squared Loss function\n",
        "criterion = nn.MSELoss()\n",
        "#Learning Rate\n",
        "learning_rate = 0.01\n",
        "#instantiate optimizer class - Stochastic Gradient Descent\n",
        "optimizer = torch.optim.SGD(model.parameters(),lr=learning_rate)"
      ],
      "execution_count": null,
      "outputs": []
    },
    {
      "cell_type": "markdown",
      "metadata": {
        "id": "uttoH5BFSihg",
        "colab_type": "text"
      },
      "source": [
        "TRAINING"
      ]
    },
    {
      "cell_type": "code",
      "metadata": {
        "id": "PyeirAmpSPPf",
        "colab_type": "code",
        "colab": {
          "base_uri": "https://localhost:8080/",
          "height": 1000
        },
        "outputId": "2c7fffd8-409e-4ba6-c659-acacce612a94"
      },
      "source": [
        "epochs = 100\n",
        "\n",
        "for epoch in range(epochs):\n",
        "  epoch += 1\n",
        "  #convert numpy arrays to torch Variable\n",
        "  inputs = Variable(torch.from_numpy(x_train))\n",
        "  labels = Variable(torch.from_numpy(y_train))\n",
        "  #clear gradients for every epoch\n",
        "  optimizer.zero_grad()\n",
        "  \n",
        "  #predict\n",
        "  outputs = model(inputs)\n",
        "  \n",
        "  #calculate loss\n",
        "  loss = criterion(outputs,labels)\n",
        "  \n",
        "  #getting gradients\n",
        "  loss.backward()\n",
        "  \n",
        "  #update the parameters\n",
        "  optimizer.step()\n",
        "\n",
        "  #print(loss.data)\n",
        "  print('epoch {} loss {}'.format(epoch,loss.data))\n"
      ],
      "execution_count": null,
      "outputs": [
        {
          "output_type": "stream",
          "text": [
            "epoch 1 loss 154.1261444091797\n",
            "epoch 2 loss 12.578171730041504\n",
            "epoch 3 loss 1.0324769020080566\n",
            "epoch 4 loss 0.09065954387187958\n",
            "epoch 5 loss 0.013766243122518063\n",
            "epoch 6 loss 0.007423108443617821\n",
            "epoch 7 loss 0.006835454609245062\n",
            "epoch 8 loss 0.006717944052070379\n",
            "epoch 9 loss 0.006639566738158464\n",
            "epoch 10 loss 0.006565123796463013\n",
            "epoch 11 loss 0.0064918105490505695\n",
            "epoch 12 loss 0.006419308017939329\n",
            "epoch 13 loss 0.0063476283103227615\n",
            "epoch 14 loss 0.0062767090275883675\n",
            "epoch 15 loss 0.006206620018929243\n",
            "epoch 16 loss 0.0061373175121843815\n",
            "epoch 17 loss 0.006068784277886152\n",
            "epoch 18 loss 0.006001029629260302\n",
            "epoch 19 loss 0.005934029817581177\n",
            "epoch 20 loss 0.005867768544703722\n",
            "epoch 21 loss 0.005802232306450605\n",
            "epoch 22 loss 0.0057374220341444016\n",
            "epoch 23 loss 0.00567333959043026\n",
            "epoch 24 loss 0.005610004998743534\n",
            "epoch 25 loss 0.005547364242374897\n",
            "epoch 26 loss 0.005485424771904945\n",
            "epoch 27 loss 0.005424171686172485\n",
            "epoch 28 loss 0.005363586824387312\n",
            "epoch 29 loss 0.005303727462887764\n",
            "epoch 30 loss 0.005244493018835783\n",
            "epoch 31 loss 0.005185927730053663\n",
            "epoch 32 loss 0.005128015764057636\n",
            "epoch 33 loss 0.005070743151009083\n",
            "epoch 34 loss 0.005014133173972368\n",
            "epoch 35 loss 0.004958119709044695\n",
            "epoch 36 loss 0.0049027749337255955\n",
            "epoch 37 loss 0.004848015028983355\n",
            "epoch 38 loss 0.004793837666511536\n",
            "epoch 39 loss 0.0047403424978256226\n",
            "epoch 40 loss 0.004687402863055468\n",
            "epoch 41 loss 0.0046350653283298016\n",
            "epoch 42 loss 0.004583327099680901\n",
            "epoch 43 loss 0.004532110411673784\n",
            "epoch 44 loss 0.004481507930904627\n",
            "epoch 45 loss 0.004431479144841433\n",
            "epoch 46 loss 0.004381979815661907\n",
            "epoch 47 loss 0.004333056043833494\n",
            "epoch 48 loss 0.004284669645130634\n",
            "epoch 49 loss 0.004236827604472637\n",
            "epoch 50 loss 0.004189513623714447\n",
            "epoch 51 loss 0.0041427225805819035\n",
            "epoch 52 loss 0.004096473567187786\n",
            "epoch 53 loss 0.0040506841614842415\n",
            "epoch 54 loss 0.004005478695034981\n",
            "epoch 55 loss 0.003960743080824614\n",
            "epoch 56 loss 0.003916512709110975\n",
            "epoch 57 loss 0.00387278338894248\n",
            "epoch 58 loss 0.0038295567501336336\n",
            "epoch 59 loss 0.0037867671344429255\n",
            "epoch 60 loss 0.0037444690242409706\n",
            "epoch 61 loss 0.0037026626523584127\n",
            "epoch 62 loss 0.0036613403353840113\n",
            "epoch 63 loss 0.003620447125285864\n",
            "epoch 64 loss 0.003580019809305668\n",
            "epoch 65 loss 0.0035400413908064365\n",
            "epoch 66 loss 0.0035004974342882633\n",
            "epoch 67 loss 0.0034614072646945715\n",
            "epoch 68 loss 0.003422762965783477\n",
            "epoch 69 loss 0.003384550102055073\n",
            "epoch 70 loss 0.003346741897985339\n",
            "epoch 71 loss 0.003309384686872363\n",
            "epoch 72 loss 0.003272435162216425\n",
            "epoch 73 loss 0.0032358886674046516\n",
            "epoch 74 loss 0.0031997456680983305\n",
            "epoch 75 loss 0.0031640275847166777\n",
            "epoch 76 loss 0.0031286978628486395\n",
            "epoch 77 loss 0.0030937425326555967\n",
            "epoch 78 loss 0.003059180686250329\n",
            "epoch 79 loss 0.0030250304844230413\n",
            "epoch 80 loss 0.002991247922182083\n",
            "epoch 81 loss 0.0029578714165836573\n",
            "epoch 82 loss 0.002924828790128231\n",
            "epoch 83 loss 0.0028921745251864195\n",
            "epoch 84 loss 0.002859868109226227\n",
            "epoch 85 loss 0.0028279253747314215\n",
            "epoch 86 loss 0.0027963637840002775\n",
            "epoch 87 loss 0.0027651425916701555\n",
            "epoch 88 loss 0.0027342517860233784\n",
            "epoch 89 loss 0.0027037044055759907\n",
            "epoch 90 loss 0.002673526993021369\n",
            "epoch 91 loss 0.0026436704210937023\n",
            "epoch 92 loss 0.0026141488924622536\n",
            "epoch 93 loss 0.0025849631056189537\n",
            "epoch 94 loss 0.0025560916401445866\n",
            "epoch 95 loss 0.002527550794184208\n",
            "epoch 96 loss 0.002499341033399105\n",
            "epoch 97 loss 0.002471406478434801\n",
            "epoch 98 loss 0.0024438202381134033\n",
            "epoch 99 loss 0.0024165224749594927\n",
            "epoch 100 loss 0.002389538800343871\n"
          ],
          "name": "stdout"
        }
      ]
    },
    {
      "cell_type": "markdown",
      "metadata": {
        "id": "zslqVoXeaMmc",
        "colab_type": "text"
      },
      "source": [
        "PLOT DATA"
      ]
    },
    {
      "cell_type": "code",
      "metadata": {
        "id": "MAnOiUjwX5tV",
        "colab_type": "code",
        "colab": {
          "base_uri": "https://localhost:8080/",
          "height": 265
        },
        "outputId": "04e9d321-e963-4531-9ad7-b8b0a4381ec9"
      },
      "source": [
        "#clear the plot\n",
        "plt.clf()\n",
        "\n",
        "predicted = model(Variable(torch.from_numpy(x_train))).data.numpy()\n",
        "plt.plot(x_train,y_train,'go',label='True Data', alpha=0.5)\n",
        "plt.plot(x_train,predicted,'--',label='Prediction',alpha = 0.5)\n",
        "plt.legend(loc='best')\n",
        "plt.show()"
      ],
      "execution_count": null,
      "outputs": [
        {
          "output_type": "display_data",
          "data": {
            "image/png": "[encoded data removed]",
            "text/plain": [
              "<Figure size 432x288 with 1 Axes>"
            ]
          },
          "metadata": {
            "tags": [],
            "needs_background": "light"
          }
        }
      ]
    },
    {
      "cell_type": "markdown",
      "metadata": {
        "id": "GelqJWnEbgoA",
        "colab_type": "text"
      },
      "source": [
        "SAVE MODEL"
      ]
    },
    {
      "cell_type": "code",
      "metadata": {
        "id": "jPPETxnzaRPI",
        "colab_type": "code",
        "colab": {}
      },
      "source": [
        "save_model = True\n",
        "if save_model:\n",
        "  #saves only parameters\n",
        "  torch.save(model.state_dict(), 'linearReg1.pkl')"
      ],
      "execution_count": null,
      "outputs": []
    },
    {
      "cell_type": "markdown",
      "metadata": {
        "id": "SC_k9qTAbimv",
        "colab_type": "text"
      },
      "source": [
        "LOAD MODEL"
      ]
    },
    {
      "cell_type": "code",
      "metadata": {
        "id": "Td6Sh8xdbBpw",
        "colab_type": "code",
        "colab": {}
      },
      "source": [
        "load_model = True\n",
        "if load_model:\n",
        "  model.load_state_dict(torch.load('linearReg1.pkl'))"
      ],
      "execution_count": null,
      "outputs": []
    }
  ]
}